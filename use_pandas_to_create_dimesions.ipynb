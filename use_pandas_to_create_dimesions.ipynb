{
 "cells": [
  {
   "cell_type": "markdown",
   "metadata": {
    "editable": true
   },
   "source": [
    "# Create Dimension Tables"
   ]
  },
  {
   "cell_type": "markdown",
   "metadata": {
    "editable": true
   },
   "source": [
    "## I94ADDR"
   ]
  },
  {
   "cell_type": "code",
   "execution_count": 56,
   "metadata": {
    "editable": true
   },
   "outputs": [
    {
     "data": {
      "text/html": [
       "<div>\n",
       "<style scoped>\n",
       "    .dataframe tbody tr th:only-of-type {\n",
       "        vertical-align: middle;\n",
       "    }\n",
       "\n",
       "    .dataframe tbody tr th {\n",
       "        vertical-align: top;\n",
       "    }\n",
       "\n",
       "    .dataframe thead th {\n",
       "        text-align: right;\n",
       "    }\n",
       "</style>\n",
       "<table border=\"1\" class=\"dataframe\">\n",
       "  <thead>\n",
       "    <tr style=\"text-align: right;\">\n",
       "      <th></th>\n",
       "      <th>state_code</th>\n",
       "      <th>state_name</th>\n",
       "    </tr>\n",
       "  </thead>\n",
       "  <tbody>\n",
       "    <tr>\n",
       "      <th>0</th>\n",
       "      <td>AL</td>\n",
       "      <td>ALABAMA</td>\n",
       "    </tr>\n",
       "    <tr>\n",
       "      <th>1</th>\n",
       "      <td>AK</td>\n",
       "      <td>ALASKA</td>\n",
       "    </tr>\n",
       "    <tr>\n",
       "      <th>2</th>\n",
       "      <td>AZ</td>\n",
       "      <td>ARIZONA</td>\n",
       "    </tr>\n",
       "    <tr>\n",
       "      <th>3</th>\n",
       "      <td>AR</td>\n",
       "      <td>ARKANSAS</td>\n",
       "    </tr>\n",
       "    <tr>\n",
       "      <th>4</th>\n",
       "      <td>CA</td>\n",
       "      <td>CALIFORNIA</td>\n",
       "    </tr>\n",
       "  </tbody>\n",
       "</table>\n",
       "</div>"
      ],
      "text/plain": [
       "  state_code  state_name\n",
       "0         AL     ALABAMA\n",
       "1         AK      ALASKA\n",
       "2         AZ     ARIZONA\n",
       "3         AR    ARKANSAS\n",
       "4         CA  CALIFORNIA"
      ]
     },
     "execution_count": 56,
     "metadata": {},
     "output_type": "execute_result"
    }
   ],
   "source": [
    "import pandas as pd\n",
    "with open(\"I94_SAS_Labels_Descriptions.SAS\") as f:\n",
    "    content = f.readlines()\n",
    "content = [x.strip().replace(\"'\",\"\") for x in content[981:1035]]\n",
    "df_addr=pd.DataFrame()\n",
    "for line in content:\n",
    "    value = line.split(\"=\")[0].strip()\n",
    "    i94addrl = line.split(\"=\")[-1].strip()\n",
    "    df_addr=df_addr.append(\n",
    "        {\"state_code\" : value, \"state_name\": i94addrl}, ignore_index=True\n",
    "    )\n",
    "df_addr.head()"
   ]
  },
  {
   "cell_type": "code",
   "execution_count": 57,
   "metadata": {
    "editable": true
   },
   "outputs": [],
   "source": [
    "states = list(set(df_addr['state_code'].values))"
   ]
  },
  {
   "cell_type": "code",
   "execution_count": 58,
   "metadata": {
    "editable": true
   },
   "outputs": [],
   "source": [
    "df_addr.to_csv(\"dimensions/us_states.csv\", index=False)"
   ]
  },
  {
   "cell_type": "markdown",
   "metadata": {
    "editable": true
   },
   "source": [
    "## I94PORT"
   ]
  },
  {
   "cell_type": "code",
   "execution_count": 59,
   "metadata": {
    "editable": true
   },
   "outputs": [],
   "source": [
    "import pandas as pd\n",
    "\n",
    "with open(\"I94_SAS_Labels_Descriptions.SAS\") as f:\n",
    "    content = f.readlines()\n",
    "content = [x.strip().replace(\"'\",\"\") for x in content[302:962]]\n",
    "df_port_locations=pd.DataFrame()\n",
    "for line in content:\n",
    "    port_code = line.split(\"=\")[0].strip()\n",
    "    port_city = line.split(\"=\")[1].strip().split(\",\")[0].strip()\n",
    "    port_state = line.split(\"=\")[1].strip().split(\",\")[-1].strip()\n",
    "    if port_state == port_city or port_state not in states:\n",
    "        continue\n",
    "    else:\n",
    "        if \" \" in port_state:\n",
    "            port_state = port_state.split(\" \")[0]\n",
    "    df_port_locations=df_port_locations.append(\n",
    "        {\"port_code\" : port_code, \"municipality\": port_city, \"state_code\": port_state}, ignore_index=True\n",
    "    )\n",
    "df_port_locations.head()\n",
    "municipality_port = list(set(df_port_locations['municipality'].values))"
   ]
  },
  {
   "cell_type": "code",
   "execution_count": 60,
   "metadata": {
    "editable": true
   },
   "outputs": [
    {
     "data": {
      "text/html": [
       "<div>\n",
       "<style scoped>\n",
       "    .dataframe tbody tr th:only-of-type {\n",
       "        vertical-align: middle;\n",
       "    }\n",
       "\n",
       "    .dataframe tbody tr th {\n",
       "        vertical-align: top;\n",
       "    }\n",
       "\n",
       "    .dataframe thead th {\n",
       "        text-align: right;\n",
       "    }\n",
       "</style>\n",
       "<table border=\"1\" class=\"dataframe\">\n",
       "  <thead>\n",
       "    <tr style=\"text-align: right;\">\n",
       "      <th></th>\n",
       "      <th>municipality</th>\n",
       "      <th>port_code</th>\n",
       "      <th>state_code</th>\n",
       "    </tr>\n",
       "  </thead>\n",
       "  <tbody>\n",
       "    <tr>\n",
       "      <th>0</th>\n",
       "      <td>ALCAN</td>\n",
       "      <td>ALC</td>\n",
       "      <td>AK</td>\n",
       "    </tr>\n",
       "    <tr>\n",
       "      <th>1</th>\n",
       "      <td>ANCHORAGE</td>\n",
       "      <td>ANC</td>\n",
       "      <td>AK</td>\n",
       "    </tr>\n",
       "    <tr>\n",
       "      <th>2</th>\n",
       "      <td>BAKER AAF - BAKER ISLAND</td>\n",
       "      <td>BAR</td>\n",
       "      <td>AK</td>\n",
       "    </tr>\n",
       "    <tr>\n",
       "      <th>3</th>\n",
       "      <td>DALTONS CACHE</td>\n",
       "      <td>DAC</td>\n",
       "      <td>AK</td>\n",
       "    </tr>\n",
       "    <tr>\n",
       "      <th>4</th>\n",
       "      <td>DEW STATION PT LAY DEW</td>\n",
       "      <td>PIZ</td>\n",
       "      <td>AK</td>\n",
       "    </tr>\n",
       "  </tbody>\n",
       "</table>\n",
       "</div>"
      ],
      "text/plain": [
       "               municipality port_code state_code\n",
       "0                     ALCAN       ALC         AK\n",
       "1                 ANCHORAGE       ANC         AK\n",
       "2  BAKER AAF - BAKER ISLAND       BAR         AK\n",
       "3             DALTONS CACHE       DAC         AK\n",
       "4    DEW STATION PT LAY DEW       PIZ         AK"
      ]
     },
     "execution_count": 60,
     "metadata": {},
     "output_type": "execute_result"
    }
   ],
   "source": [
    "df_port_locations.head()"
   ]
  },
  {
   "cell_type": "code",
   "execution_count": 61,
   "metadata": {
    "editable": true
   },
   "outputs": [],
   "source": [
    "df_port_locations.to_csv(\"dimensions/us_ports.csv\", index=False)"
   ]
  },
  {
   "cell_type": "markdown",
   "metadata": {
    "editable": true
   },
   "source": [
    "## I94CIT & I94RES"
   ]
  },
  {
   "cell_type": "code",
   "execution_count": 11,
   "metadata": {
    "editable": true
   },
   "outputs": [
    {
     "data": {
      "text/html": [
       "<div>\n",
       "<style scoped>\n",
       "    .dataframe tbody tr th:only-of-type {\n",
       "        vertical-align: middle;\n",
       "    }\n",
       "\n",
       "    .dataframe tbody tr th {\n",
       "        vertical-align: top;\n",
       "    }\n",
       "\n",
       "    .dataframe thead th {\n",
       "        text-align: right;\n",
       "    }\n",
       "</style>\n",
       "<table border=\"1\" class=\"dataframe\">\n",
       "  <thead>\n",
       "    <tr style=\"text-align: right;\">\n",
       "      <th></th>\n",
       "      <th>country_code</th>\n",
       "      <th>country_name</th>\n",
       "    </tr>\n",
       "  </thead>\n",
       "  <tbody>\n",
       "    <tr>\n",
       "      <th>0</th>\n",
       "      <td>236</td>\n",
       "      <td>AFGHANISTAN</td>\n",
       "    </tr>\n",
       "    <tr>\n",
       "      <th>1</th>\n",
       "      <td>101</td>\n",
       "      <td>ALBANIA</td>\n",
       "    </tr>\n",
       "    <tr>\n",
       "      <th>2</th>\n",
       "      <td>316</td>\n",
       "      <td>ALGERIA</td>\n",
       "    </tr>\n",
       "    <tr>\n",
       "      <th>3</th>\n",
       "      <td>102</td>\n",
       "      <td>ANDORRA</td>\n",
       "    </tr>\n",
       "    <tr>\n",
       "      <th>4</th>\n",
       "      <td>324</td>\n",
       "      <td>ANGOLA</td>\n",
       "    </tr>\n",
       "  </tbody>\n",
       "</table>\n",
       "</div>"
      ],
      "text/plain": [
       "  country_code country_name\n",
       "0          236  AFGHANISTAN\n",
       "1          101      ALBANIA\n",
       "2          316      ALGERIA\n",
       "3          102      ANDORRA\n",
       "4          324       ANGOLA"
      ]
     },
     "execution_count": 11,
     "metadata": {},
     "output_type": "execute_result"
    }
   ],
   "source": [
    "with open(\"I94_SAS_Labels_Descriptions.SAS\") as f:\n",
    "    content = f.readlines()\n",
    "content = [x.strip().replace(\"'\",\"\") for x in content[10:299]]\n",
    "df_cit_res=pd.DataFrame()\n",
    "for line in content:\n",
    "    value = line.split(\"=\")[0].strip()\n",
    "    i94cntyl = line.split(\"=\")[-1].strip()\n",
    "    if \"INVALID\" in i94cntyl or \"Not Reported\" in i94cntyl or \"Collapsed\" in i94cntyl or value in i94cntyl:\n",
    "        continue\n",
    "    df_cit_res=df_cit_res.append(\n",
    "        {\"country_code\" : value, \"country_name\": i94cntyl}, ignore_index=True\n",
    "    )\n",
    "df_cit_res.head()"
   ]
  },
  {
   "cell_type": "code",
   "execution_count": 12,
   "metadata": {
    "editable": true
   },
   "outputs": [],
   "source": [
    "df_cit_res.to_csv(\"dimensions/countries.csv\", index=False)"
   ]
  },
  {
   "cell_type": "markdown",
   "metadata": {
    "editable": true
   },
   "source": [
    "## Airports"
   ]
  },
  {
   "cell_type": "code",
   "execution_count": 62,
   "metadata": {
    "editable": true
   },
   "outputs": [
    {
     "data": {
      "text/html": [
       "<div>\n",
       "<style scoped>\n",
       "    .dataframe tbody tr th:only-of-type {\n",
       "        vertical-align: middle;\n",
       "    }\n",
       "\n",
       "    .dataframe tbody tr th {\n",
       "        vertical-align: top;\n",
       "    }\n",
       "\n",
       "    .dataframe thead th {\n",
       "        text-align: right;\n",
       "    }\n",
       "</style>\n",
       "<table border=\"1\" class=\"dataframe\">\n",
       "  <thead>\n",
       "    <tr style=\"text-align: right;\">\n",
       "      <th></th>\n",
       "      <th>id</th>\n",
       "      <th>type</th>\n",
       "      <th>name</th>\n",
       "      <th>elevation_ft</th>\n",
       "      <th>municipality</th>\n",
       "      <th>gps_code</th>\n",
       "      <th>iata_code</th>\n",
       "      <th>local_code</th>\n",
       "      <th>latitude</th>\n",
       "      <th>longitude</th>\n",
       "      <th>state_code</th>\n",
       "    </tr>\n",
       "  </thead>\n",
       "  <tbody>\n",
       "    <tr>\n",
       "      <th>440</th>\n",
       "      <td>07FA</td>\n",
       "      <td>small_airport</td>\n",
       "      <td>Ocean Reef Club Airport</td>\n",
       "      <td>8.0</td>\n",
       "      <td>Key Largo</td>\n",
       "      <td>07FA</td>\n",
       "      <td>OCA</td>\n",
       "      <td>07FA</td>\n",
       "      <td>25.325399398804</td>\n",
       "      <td>-80.274803161621</td>\n",
       "      <td>FL</td>\n",
       "    </tr>\n",
       "    <tr>\n",
       "      <th>594</th>\n",
       "      <td>0AK</td>\n",
       "      <td>small_airport</td>\n",
       "      <td>Pilot Station Airport</td>\n",
       "      <td>305.0</td>\n",
       "      <td>Pilot Station</td>\n",
       "      <td>NaN</td>\n",
       "      <td>PQS</td>\n",
       "      <td>0AK</td>\n",
       "      <td>61.934601</td>\n",
       "      <td>-162.899994</td>\n",
       "      <td>AK</td>\n",
       "    </tr>\n",
       "    <tr>\n",
       "      <th>673</th>\n",
       "      <td>0CO2</td>\n",
       "      <td>small_airport</td>\n",
       "      <td>Crested Butte Airpark</td>\n",
       "      <td>8980.0</td>\n",
       "      <td>Crested Butte</td>\n",
       "      <td>0CO2</td>\n",
       "      <td>CSE</td>\n",
       "      <td>0CO2</td>\n",
       "      <td>38.851918</td>\n",
       "      <td>-106.928341</td>\n",
       "      <td>CO</td>\n",
       "    </tr>\n",
       "    <tr>\n",
       "      <th>1088</th>\n",
       "      <td>0TE7</td>\n",
       "      <td>small_airport</td>\n",
       "      <td>LBJ Ranch Airport</td>\n",
       "      <td>1515.0</td>\n",
       "      <td>Johnson City</td>\n",
       "      <td>0TE7</td>\n",
       "      <td>JCY</td>\n",
       "      <td>0TE7</td>\n",
       "      <td>30.251800537100003</td>\n",
       "      <td>-98.62249755859999</td>\n",
       "      <td>TX</td>\n",
       "    </tr>\n",
       "    <tr>\n",
       "      <th>1402</th>\n",
       "      <td>13MA</td>\n",
       "      <td>small_airport</td>\n",
       "      <td>Metropolitan Airport</td>\n",
       "      <td>418.0</td>\n",
       "      <td>Palmer</td>\n",
       "      <td>13MA</td>\n",
       "      <td>PMX</td>\n",
       "      <td>13MA</td>\n",
       "      <td>42.223300933800004</td>\n",
       "      <td>-72.31140136719999</td>\n",
       "      <td>MA</td>\n",
       "    </tr>\n",
       "  </tbody>\n",
       "</table>\n",
       "</div>"
      ],
      "text/plain": [
       "        id           type                     name  elevation_ft  \\\n",
       "440   07FA  small_airport  Ocean Reef Club Airport           8.0   \n",
       "594    0AK  small_airport    Pilot Station Airport         305.0   \n",
       "673   0CO2  small_airport    Crested Butte Airpark        8980.0   \n",
       "1088  0TE7  small_airport        LBJ Ranch Airport        1515.0   \n",
       "1402  13MA  small_airport     Metropolitan Airport         418.0   \n",
       "\n",
       "       municipality gps_code iata_code local_code             latitude  \\\n",
       "440       Key Largo     07FA       OCA       07FA      25.325399398804   \n",
       "594   Pilot Station      NaN       PQS        0AK            61.934601   \n",
       "673   Crested Butte     0CO2       CSE       0CO2            38.851918   \n",
       "1088   Johnson City     0TE7       JCY       0TE7   30.251800537100003   \n",
       "1402         Palmer     13MA       PMX       13MA   42.223300933800004   \n",
       "\n",
       "               longitude state_code  \n",
       "440     -80.274803161621         FL  \n",
       "594          -162.899994         AK  \n",
       "673          -106.928341         CO  \n",
       "1088  -98.62249755859999         TX  \n",
       "1402  -72.31140136719999         MA  "
      ]
     },
     "execution_count": 62,
     "metadata": {},
     "output_type": "execute_result"
    }
   ],
   "source": [
    "import pandas as pd\n",
    "df_ac = pd.read_csv('airport-codes_csv.csv')\n",
    "\n",
    "df_ac=df_ac[df_ac['iso_country']=='US']\n",
    "df_ac=df_ac.dropna(subset=['iata_code'])\n",
    "new=df_ac[\"coordinates\"].str.split(\",\", n = 1, expand = True)\n",
    "df_ac[\"latitude\"]= new[1]\n",
    "df_ac[\"longitude\"]= new[0]\n",
    "new=df_ac[\"iso_region\"].str.split(\"-\", n = 1, expand = True)\n",
    "df_ac[\"state_code\"]= new[1]\n",
    "df_ac = df_ac.drop(['coordinates', 'iso_country', 'continent', 'iso_region'], axis=1)\n",
    "df_ac = df_ac.rename(columns={\"ident\": \"id\"})\n",
    "df_ac.head()"
   ]
  },
  {
   "cell_type": "code",
   "execution_count": 63,
   "metadata": {
    "editable": true
   },
   "outputs": [
    {
     "data": {
      "text/html": [
       "<div>\n",
       "<style scoped>\n",
       "    .dataframe tbody tr th:only-of-type {\n",
       "        vertical-align: middle;\n",
       "    }\n",
       "\n",
       "    .dataframe tbody tr th {\n",
       "        vertical-align: top;\n",
       "    }\n",
       "\n",
       "    .dataframe thead th {\n",
       "        text-align: right;\n",
       "    }\n",
       "</style>\n",
       "<table border=\"1\" class=\"dataframe\">\n",
       "  <thead>\n",
       "    <tr style=\"text-align: right;\">\n",
       "      <th></th>\n",
       "      <th>id</th>\n",
       "      <th>type</th>\n",
       "      <th>name</th>\n",
       "      <th>elevation_ft</th>\n",
       "      <th>municipality</th>\n",
       "      <th>gps_code</th>\n",
       "      <th>iata_code</th>\n",
       "      <th>local_code</th>\n",
       "      <th>latitude</th>\n",
       "      <th>longitude</th>\n",
       "      <th>state_code</th>\n",
       "    </tr>\n",
       "  </thead>\n",
       "  <tbody>\n",
       "    <tr>\n",
       "      <th>27362</th>\n",
       "      <td>KGPI</td>\n",
       "      <td>medium_airport</td>\n",
       "      <td>Glacier Park International Airport</td>\n",
       "      <td>2977.0</td>\n",
       "      <td>Kalispell</td>\n",
       "      <td>KGPI</td>\n",
       "      <td>FCA</td>\n",
       "      <td>GPI</td>\n",
       "      <td>48.31050109863281</td>\n",
       "      <td>-114.25599670410156</td>\n",
       "      <td>MT</td>\n",
       "    </tr>\n",
       "  </tbody>\n",
       "</table>\n",
       "</div>"
      ],
      "text/plain": [
       "         id            type                                name  elevation_ft  \\\n",
       "27362  KGPI  medium_airport  Glacier Park International Airport        2977.0   \n",
       "\n",
       "      municipality gps_code iata_code local_code            latitude  \\\n",
       "27362    Kalispell     KGPI       FCA        GPI   48.31050109863281   \n",
       "\n",
       "                 longitude state_code  \n",
       "27362  -114.25599670410156         MT  "
      ]
     },
     "execution_count": 63,
     "metadata": {},
     "output_type": "execute_result"
    }
   ],
   "source": [
    "df_ac[df_ac['iata_code']=='FCA']"
   ]
  },
  {
   "cell_type": "code",
   "execution_count": 20,
   "metadata": {
    "editable": true
   },
   "outputs": [],
   "source": [
    "df_ac.to_csv(\"dimensions/us_airport_codes.csv\", index=False)"
   ]
  },
  {
   "cell_type": "markdown",
   "metadata": {
    "editable": true
   },
   "source": [
    "## Temperature Data "
   ]
  },
  {
   "cell_type": "code",
   "execution_count": 3,
   "metadata": {
    "editable": true
   },
   "outputs": [
    {
     "data": {
      "text/html": [
       "<div>\n",
       "<style scoped>\n",
       "    .dataframe tbody tr th:only-of-type {\n",
       "        vertical-align: middle;\n",
       "    }\n",
       "\n",
       "    .dataframe tbody tr th {\n",
       "        vertical-align: top;\n",
       "    }\n",
       "\n",
       "    .dataframe thead th {\n",
       "        text-align: right;\n",
       "    }\n",
       "</style>\n",
       "<table border=\"1\" class=\"dataframe\">\n",
       "  <thead>\n",
       "    <tr style=\"text-align: right;\">\n",
       "      <th></th>\n",
       "      <th>dt</th>\n",
       "      <th>avg_temp</th>\n",
       "      <th>city</th>\n",
       "    </tr>\n",
       "  </thead>\n",
       "  <tbody>\n",
       "    <tr>\n",
       "      <th>47555</th>\n",
       "      <td>1820-01-01</td>\n",
       "      <td>2.101</td>\n",
       "      <td>Abilene</td>\n",
       "    </tr>\n",
       "    <tr>\n",
       "      <th>47556</th>\n",
       "      <td>1820-02-01</td>\n",
       "      <td>6.926</td>\n",
       "      <td>Abilene</td>\n",
       "    </tr>\n",
       "    <tr>\n",
       "      <th>47557</th>\n",
       "      <td>1820-03-01</td>\n",
       "      <td>10.767</td>\n",
       "      <td>Abilene</td>\n",
       "    </tr>\n",
       "    <tr>\n",
       "      <th>47558</th>\n",
       "      <td>1820-04-01</td>\n",
       "      <td>17.989</td>\n",
       "      <td>Abilene</td>\n",
       "    </tr>\n",
       "    <tr>\n",
       "      <th>47559</th>\n",
       "      <td>1820-05-01</td>\n",
       "      <td>21.809</td>\n",
       "      <td>Abilene</td>\n",
       "    </tr>\n",
       "  </tbody>\n",
       "</table>\n",
       "</div>"
      ],
      "text/plain": [
       "               dt  avg_temp     city\n",
       "47555  1820-01-01     2.101  Abilene\n",
       "47556  1820-02-01     6.926  Abilene\n",
       "47557  1820-03-01    10.767  Abilene\n",
       "47558  1820-04-01    17.989  Abilene\n",
       "47559  1820-05-01    21.809  Abilene"
      ]
     },
     "execution_count": 3,
     "metadata": {},
     "output_type": "execute_result"
    }
   ],
   "source": [
    "df_temper = pd.read_csv('../../data2/GlobalLandTemperaturesByCity.csv')\n",
    "df_temper=df_temper[df_temper['Country']=='United States']\n",
    "df_temper = df_temper.dropna()\n",
    "df_temper = df_temper.drop_duplicates(['dt', 'City', 'Country'],keep= 'first')\n",
    "df_temper =df_temper.drop(columns=['AverageTemperatureUncertainty', 'Latitude', 'Longitude', 'Country'])\n",
    "\n",
    "df_temper = df_temper.rename(columns=\n",
    "                             {\n",
    "                                 \"AverageTemperature\": \"avg_temp\", \n",
    "                                 \"City\": \"city\"\n",
    "                             })\n",
    "\n",
    "df_temper.head()"
   ]
  },
  {
   "cell_type": "code",
   "execution_count": 4,
   "metadata": {
    "editable": true
   },
   "outputs": [
    {
     "data": {
      "text/plain": [
       "Index(['dt', 'avg_temp', 'city'], dtype='object')"
      ]
     },
     "execution_count": 4,
     "metadata": {},
     "output_type": "execute_result"
    }
   ],
   "source": [
    "df_temper.columns"
   ]
  },
  {
   "cell_type": "code",
   "execution_count": 5,
   "metadata": {
    "editable": true
   },
   "outputs": [
    {
     "data": {
      "text/plain": [
       "(639649, 3)"
      ]
     },
     "execution_count": 5,
     "metadata": {},
     "output_type": "execute_result"
    }
   ],
   "source": [
    "df_temper.shape"
   ]
  },
  {
   "cell_type": "code",
   "execution_count": 6,
   "metadata": {
    "editable": true
   },
   "outputs": [],
   "source": [
    "df_temper.to_csv(\"dimensions/us_temperature.csv\", index=False)"
   ]
  },
  {
   "cell_type": "markdown",
   "metadata": {
    "editable": true
   },
   "source": [
    "## Demographics Data "
   ]
  },
  {
   "cell_type": "code",
   "execution_count": 64,
   "metadata": {
    "editable": true
   },
   "outputs": [
    {
     "data": {
      "text/html": [
       "<div>\n",
       "<style scoped>\n",
       "    .dataframe tbody tr th:only-of-type {\n",
       "        vertical-align: middle;\n",
       "    }\n",
       "\n",
       "    .dataframe tbody tr th {\n",
       "        vertical-align: top;\n",
       "    }\n",
       "\n",
       "    .dataframe thead th {\n",
       "        text-align: right;\n",
       "    }\n",
       "</style>\n",
       "<table border=\"1\" class=\"dataframe\">\n",
       "  <thead>\n",
       "    <tr style=\"text-align: right;\">\n",
       "      <th></th>\n",
       "      <th>city</th>\n",
       "      <th>median_age</th>\n",
       "      <th>male_population</th>\n",
       "      <th>female_population</th>\n",
       "      <th>total_population</th>\n",
       "      <th>number_of_veterans</th>\n",
       "      <th>foreign_born</th>\n",
       "      <th>average_household_size</th>\n",
       "      <th>state_code</th>\n",
       "      <th>race</th>\n",
       "      <th>count</th>\n",
       "    </tr>\n",
       "  </thead>\n",
       "  <tbody>\n",
       "    <tr>\n",
       "      <th>0</th>\n",
       "      <td>SILVER SPRING</td>\n",
       "      <td>33.8</td>\n",
       "      <td>40601.0</td>\n",
       "      <td>41862.0</td>\n",
       "      <td>82463</td>\n",
       "      <td>1562.0</td>\n",
       "      <td>30908.0</td>\n",
       "      <td>2.60</td>\n",
       "      <td>MD</td>\n",
       "      <td>Hispanic or Latino</td>\n",
       "      <td>25924</td>\n",
       "    </tr>\n",
       "    <tr>\n",
       "      <th>1</th>\n",
       "      <td>QUINCY</td>\n",
       "      <td>41.0</td>\n",
       "      <td>44129.0</td>\n",
       "      <td>49500.0</td>\n",
       "      <td>93629</td>\n",
       "      <td>4147.0</td>\n",
       "      <td>32935.0</td>\n",
       "      <td>2.39</td>\n",
       "      <td>MA</td>\n",
       "      <td>White</td>\n",
       "      <td>58723</td>\n",
       "    </tr>\n",
       "    <tr>\n",
       "      <th>2</th>\n",
       "      <td>HOOVER</td>\n",
       "      <td>38.5</td>\n",
       "      <td>38040.0</td>\n",
       "      <td>46799.0</td>\n",
       "      <td>84839</td>\n",
       "      <td>4819.0</td>\n",
       "      <td>8229.0</td>\n",
       "      <td>2.58</td>\n",
       "      <td>AL</td>\n",
       "      <td>Asian</td>\n",
       "      <td>4759</td>\n",
       "    </tr>\n",
       "    <tr>\n",
       "      <th>3</th>\n",
       "      <td>RANCHO CUCAMONGA</td>\n",
       "      <td>34.5</td>\n",
       "      <td>88127.0</td>\n",
       "      <td>87105.0</td>\n",
       "      <td>175232</td>\n",
       "      <td>5821.0</td>\n",
       "      <td>33878.0</td>\n",
       "      <td>3.18</td>\n",
       "      <td>CA</td>\n",
       "      <td>Black or African-American</td>\n",
       "      <td>24437</td>\n",
       "    </tr>\n",
       "    <tr>\n",
       "      <th>4</th>\n",
       "      <td>NEWARK</td>\n",
       "      <td>34.6</td>\n",
       "      <td>138040.0</td>\n",
       "      <td>143873.0</td>\n",
       "      <td>281913</td>\n",
       "      <td>5829.0</td>\n",
       "      <td>86253.0</td>\n",
       "      <td>2.73</td>\n",
       "      <td>NJ</td>\n",
       "      <td>White</td>\n",
       "      <td>76402</td>\n",
       "    </tr>\n",
       "  </tbody>\n",
       "</table>\n",
       "</div>"
      ],
      "text/plain": [
       "               city  median_age  male_population  female_population  \\\n",
       "0     SILVER SPRING        33.8          40601.0            41862.0   \n",
       "1            QUINCY        41.0          44129.0            49500.0   \n",
       "2            HOOVER        38.5          38040.0            46799.0   \n",
       "3  RANCHO CUCAMONGA        34.5          88127.0            87105.0   \n",
       "4            NEWARK        34.6         138040.0           143873.0   \n",
       "\n",
       "   total_population  number_of_veterans  foreign_born  average_household_size  \\\n",
       "0             82463              1562.0       30908.0                    2.60   \n",
       "1             93629              4147.0       32935.0                    2.39   \n",
       "2             84839              4819.0        8229.0                    2.58   \n",
       "3            175232              5821.0       33878.0                    3.18   \n",
       "4            281913              5829.0       86253.0                    2.73   \n",
       "\n",
       "  state_code                       race  count  \n",
       "0         MD         Hispanic or Latino  25924  \n",
       "1         MA                      White  58723  \n",
       "2         AL                      Asian   4759  \n",
       "3         CA  Black or African-American  24437  \n",
       "4         NJ                      White  76402  "
      ]
     },
     "execution_count": 64,
     "metadata": {},
     "output_type": "execute_result"
    }
   ],
   "source": [
    "import pandas as pd\n",
    "df_uscd = pd.read_csv('us-cities-demographics.csv', delimiter=';')\n",
    "df_uscd['City'] = df_uscd['City'].apply(lambda x: x.upper())\n",
    "df_uscd['State'] = df_uscd['State'].apply(lambda x: x.upper())\n",
    "df_uscd.columns = [i.lower().replace(\" \", \"_\").replace(\"-\", \"_\") for i in df_uscd.columns]\n",
    "df_uscd =df_uscd.drop(columns=['state'])\n",
    "df_uscd.head()"
   ]
  },
  {
   "cell_type": "code",
   "execution_count": 22,
   "metadata": {
    "editable": true
   },
   "outputs": [
    {
     "data": {
      "text/plain": [
       "567"
      ]
     },
     "execution_count": 22,
     "metadata": {},
     "output_type": "execute_result"
    }
   ],
   "source": [
    "len(pd.unique(df_uscd['city'])) "
   ]
  },
  {
   "cell_type": "code",
   "execution_count": 37,
   "metadata": {
    "editable": true
   },
   "outputs": [],
   "source": [
    "dem_citiy = set(df_uscd['city'].values)\n",
    "por_cities = set(municipality_port)"
   ]
  },
  {
   "cell_type": "code",
   "execution_count": 39,
   "metadata": {
    "editable": true
   },
   "outputs": [
    {
     "name": "stdout",
     "output_type": "stream",
     "text": [
      "567\n",
      "485\n",
      "115\n"
     ]
    }
   ],
   "source": [
    "print(len(dem_citiy))\n",
    "print(len(por_cities))\n",
    "print(len(por_cities.intersection(dem_citiy)))"
   ]
  },
  {
   "cell_type": "code",
   "execution_count": 49,
   "metadata": {
    "editable": true
   },
   "outputs": [
    {
     "data": {
      "text/html": [
       "<div>\n",
       "<style scoped>\n",
       "    .dataframe tbody tr th:only-of-type {\n",
       "        vertical-align: middle;\n",
       "    }\n",
       "\n",
       "    .dataframe tbody tr th {\n",
       "        vertical-align: top;\n",
       "    }\n",
       "\n",
       "    .dataframe thead th {\n",
       "        text-align: right;\n",
       "    }\n",
       "</style>\n",
       "<table border=\"1\" class=\"dataframe\">\n",
       "  <thead>\n",
       "    <tr style=\"text-align: right;\">\n",
       "      <th></th>\n",
       "      <th>city</th>\n",
       "      <th>median_age</th>\n",
       "      <th>male_population</th>\n",
       "      <th>female_population</th>\n",
       "      <th>total_population</th>\n",
       "      <th>number_of_veterans</th>\n",
       "      <th>foreign_born</th>\n",
       "      <th>average_household_size</th>\n",
       "      <th>state_code</th>\n",
       "      <th>race</th>\n",
       "      <th>count</th>\n",
       "    </tr>\n",
       "  </thead>\n",
       "  <tbody>\n",
       "    <tr>\n",
       "      <th>62</th>\n",
       "      <td>COLUMBIA</td>\n",
       "      <td>37.9</td>\n",
       "      <td>52202.0</td>\n",
       "      <td>51265.0</td>\n",
       "      <td>103467</td>\n",
       "      <td>6526.0</td>\n",
       "      <td>23249.0</td>\n",
       "      <td>2.68</td>\n",
       "      <td>MD</td>\n",
       "      <td>Black or African-American</td>\n",
       "      <td>30075</td>\n",
       "    </tr>\n",
       "    <tr>\n",
       "      <th>760</th>\n",
       "      <td>COLUMBIA</td>\n",
       "      <td>37.9</td>\n",
       "      <td>52202.0</td>\n",
       "      <td>51265.0</td>\n",
       "      <td>103467</td>\n",
       "      <td>6526.0</td>\n",
       "      <td>23249.0</td>\n",
       "      <td>2.68</td>\n",
       "      <td>MD</td>\n",
       "      <td>Hispanic or Latino</td>\n",
       "      <td>8033</td>\n",
       "    </tr>\n",
       "    <tr>\n",
       "      <th>761</th>\n",
       "      <td>COLUMBIA</td>\n",
       "      <td>37.9</td>\n",
       "      <td>52202.0</td>\n",
       "      <td>51265.0</td>\n",
       "      <td>103467</td>\n",
       "      <td>6526.0</td>\n",
       "      <td>23249.0</td>\n",
       "      <td>2.68</td>\n",
       "      <td>MD</td>\n",
       "      <td>Asian</td>\n",
       "      <td>17821</td>\n",
       "    </tr>\n",
       "    <tr>\n",
       "      <th>874</th>\n",
       "      <td>COLUMBIA</td>\n",
       "      <td>26.8</td>\n",
       "      <td>56544.0</td>\n",
       "      <td>62554.0</td>\n",
       "      <td>119098</td>\n",
       "      <td>4548.0</td>\n",
       "      <td>10729.0</td>\n",
       "      <td>2.37</td>\n",
       "      <td>MO</td>\n",
       "      <td>Asian</td>\n",
       "      <td>8673</td>\n",
       "    </tr>\n",
       "    <tr>\n",
       "      <th>1384</th>\n",
       "      <td>COLUMBIA</td>\n",
       "      <td>26.8</td>\n",
       "      <td>56544.0</td>\n",
       "      <td>62554.0</td>\n",
       "      <td>119098</td>\n",
       "      <td>4548.0</td>\n",
       "      <td>10729.0</td>\n",
       "      <td>2.37</td>\n",
       "      <td>MO</td>\n",
       "      <td>Black or African-American</td>\n",
       "      <td>15489</td>\n",
       "    </tr>\n",
       "    <tr>\n",
       "      <th>1442</th>\n",
       "      <td>COLUMBIA</td>\n",
       "      <td>37.9</td>\n",
       "      <td>52202.0</td>\n",
       "      <td>51265.0</td>\n",
       "      <td>103467</td>\n",
       "      <td>6526.0</td>\n",
       "      <td>23249.0</td>\n",
       "      <td>2.68</td>\n",
       "      <td>MD</td>\n",
       "      <td>White</td>\n",
       "      <td>58343</td>\n",
       "    </tr>\n",
       "    <tr>\n",
       "      <th>1514</th>\n",
       "      <td>COLUMBIA</td>\n",
       "      <td>26.8</td>\n",
       "      <td>56544.0</td>\n",
       "      <td>62554.0</td>\n",
       "      <td>119098</td>\n",
       "      <td>4548.0</td>\n",
       "      <td>10729.0</td>\n",
       "      <td>2.37</td>\n",
       "      <td>MO</td>\n",
       "      <td>White</td>\n",
       "      <td>96067</td>\n",
       "    </tr>\n",
       "    <tr>\n",
       "      <th>1543</th>\n",
       "      <td>COLUMBIA</td>\n",
       "      <td>28.0</td>\n",
       "      <td>67686.0</td>\n",
       "      <td>65707.0</td>\n",
       "      <td>133393</td>\n",
       "      <td>5708.0</td>\n",
       "      <td>6074.0</td>\n",
       "      <td>2.32</td>\n",
       "      <td>SC</td>\n",
       "      <td>White</td>\n",
       "      <td>73232</td>\n",
       "    </tr>\n",
       "    <tr>\n",
       "      <th>1617</th>\n",
       "      <td>COLUMBIA</td>\n",
       "      <td>26.8</td>\n",
       "      <td>56544.0</td>\n",
       "      <td>62554.0</td>\n",
       "      <td>119098</td>\n",
       "      <td>4548.0</td>\n",
       "      <td>10729.0</td>\n",
       "      <td>2.37</td>\n",
       "      <td>MO</td>\n",
       "      <td>Hispanic or Latino</td>\n",
       "      <td>4956</td>\n",
       "    </tr>\n",
       "    <tr>\n",
       "      <th>1618</th>\n",
       "      <td>COLUMBIA</td>\n",
       "      <td>26.8</td>\n",
       "      <td>56544.0</td>\n",
       "      <td>62554.0</td>\n",
       "      <td>119098</td>\n",
       "      <td>4548.0</td>\n",
       "      <td>10729.0</td>\n",
       "      <td>2.37</td>\n",
       "      <td>MO</td>\n",
       "      <td>American Indian and Alaska Native</td>\n",
       "      <td>1713</td>\n",
       "    </tr>\n",
       "    <tr>\n",
       "      <th>1641</th>\n",
       "      <td>COLUMBIA</td>\n",
       "      <td>28.0</td>\n",
       "      <td>67686.0</td>\n",
       "      <td>65707.0</td>\n",
       "      <td>133393</td>\n",
       "      <td>5708.0</td>\n",
       "      <td>6074.0</td>\n",
       "      <td>2.32</td>\n",
       "      <td>SC</td>\n",
       "      <td>Asian</td>\n",
       "      <td>3501</td>\n",
       "    </tr>\n",
       "    <tr>\n",
       "      <th>1903</th>\n",
       "      <td>COLUMBIA</td>\n",
       "      <td>37.9</td>\n",
       "      <td>52202.0</td>\n",
       "      <td>51265.0</td>\n",
       "      <td>103467</td>\n",
       "      <td>6526.0</td>\n",
       "      <td>23249.0</td>\n",
       "      <td>2.68</td>\n",
       "      <td>MD</td>\n",
       "      <td>American Indian and Alaska Native</td>\n",
       "      <td>488</td>\n",
       "    </tr>\n",
       "    <tr>\n",
       "      <th>2166</th>\n",
       "      <td>COLUMBIA</td>\n",
       "      <td>28.0</td>\n",
       "      <td>67686.0</td>\n",
       "      <td>65707.0</td>\n",
       "      <td>133393</td>\n",
       "      <td>5708.0</td>\n",
       "      <td>6074.0</td>\n",
       "      <td>2.32</td>\n",
       "      <td>SC</td>\n",
       "      <td>Hispanic or Latino</td>\n",
       "      <td>7545</td>\n",
       "    </tr>\n",
       "    <tr>\n",
       "      <th>2167</th>\n",
       "      <td>COLUMBIA</td>\n",
       "      <td>28.0</td>\n",
       "      <td>67686.0</td>\n",
       "      <td>65707.0</td>\n",
       "      <td>133393</td>\n",
       "      <td>5708.0</td>\n",
       "      <td>6074.0</td>\n",
       "      <td>2.32</td>\n",
       "      <td>SC</td>\n",
       "      <td>American Indian and Alaska Native</td>\n",
       "      <td>1420</td>\n",
       "    </tr>\n",
       "    <tr>\n",
       "      <th>2364</th>\n",
       "      <td>COLUMBIA</td>\n",
       "      <td>28.0</td>\n",
       "      <td>67686.0</td>\n",
       "      <td>65707.0</td>\n",
       "      <td>133393</td>\n",
       "      <td>5708.0</td>\n",
       "      <td>6074.0</td>\n",
       "      <td>2.32</td>\n",
       "      <td>SC</td>\n",
       "      <td>Black or African-American</td>\n",
       "      <td>56398</td>\n",
       "    </tr>\n",
       "  </tbody>\n",
       "</table>\n",
       "</div>"
      ],
      "text/plain": [
       "          city  median_age  male_population  female_population  \\\n",
       "62    COLUMBIA        37.9          52202.0            51265.0   \n",
       "760   COLUMBIA        37.9          52202.0            51265.0   \n",
       "761   COLUMBIA        37.9          52202.0            51265.0   \n",
       "874   COLUMBIA        26.8          56544.0            62554.0   \n",
       "1384  COLUMBIA        26.8          56544.0            62554.0   \n",
       "1442  COLUMBIA        37.9          52202.0            51265.0   \n",
       "1514  COLUMBIA        26.8          56544.0            62554.0   \n",
       "1543  COLUMBIA        28.0          67686.0            65707.0   \n",
       "1617  COLUMBIA        26.8          56544.0            62554.0   \n",
       "1618  COLUMBIA        26.8          56544.0            62554.0   \n",
       "1641  COLUMBIA        28.0          67686.0            65707.0   \n",
       "1903  COLUMBIA        37.9          52202.0            51265.0   \n",
       "2166  COLUMBIA        28.0          67686.0            65707.0   \n",
       "2167  COLUMBIA        28.0          67686.0            65707.0   \n",
       "2364  COLUMBIA        28.0          67686.0            65707.0   \n",
       "\n",
       "      total_population  number_of_veterans  foreign_born  \\\n",
       "62              103467              6526.0       23249.0   \n",
       "760             103467              6526.0       23249.0   \n",
       "761             103467              6526.0       23249.0   \n",
       "874             119098              4548.0       10729.0   \n",
       "1384            119098              4548.0       10729.0   \n",
       "1442            103467              6526.0       23249.0   \n",
       "1514            119098              4548.0       10729.0   \n",
       "1543            133393              5708.0        6074.0   \n",
       "1617            119098              4548.0       10729.0   \n",
       "1618            119098              4548.0       10729.0   \n",
       "1641            133393              5708.0        6074.0   \n",
       "1903            103467              6526.0       23249.0   \n",
       "2166            133393              5708.0        6074.0   \n",
       "2167            133393              5708.0        6074.0   \n",
       "2364            133393              5708.0        6074.0   \n",
       "\n",
       "      average_household_size state_code                               race  \\\n",
       "62                      2.68         MD          Black or African-American   \n",
       "760                     2.68         MD                 Hispanic or Latino   \n",
       "761                     2.68         MD                              Asian   \n",
       "874                     2.37         MO                              Asian   \n",
       "1384                    2.37         MO          Black or African-American   \n",
       "1442                    2.68         MD                              White   \n",
       "1514                    2.37         MO                              White   \n",
       "1543                    2.32         SC                              White   \n",
       "1617                    2.37         MO                 Hispanic or Latino   \n",
       "1618                    2.37         MO  American Indian and Alaska Native   \n",
       "1641                    2.32         SC                              Asian   \n",
       "1903                    2.68         MD  American Indian and Alaska Native   \n",
       "2166                    2.32         SC                 Hispanic or Latino   \n",
       "2167                    2.32         SC  American Indian and Alaska Native   \n",
       "2364                    2.32         SC          Black or African-American   \n",
       "\n",
       "      count  \n",
       "62    30075  \n",
       "760    8033  \n",
       "761   17821  \n",
       "874    8673  \n",
       "1384  15489  \n",
       "1442  58343  \n",
       "1514  96067  \n",
       "1543  73232  \n",
       "1617   4956  \n",
       "1618   1713  \n",
       "1641   3501  \n",
       "1903    488  \n",
       "2166   7545  \n",
       "2167   1420  \n",
       "2364  56398  "
      ]
     },
     "execution_count": 49,
     "metadata": {},
     "output_type": "execute_result"
    }
   ],
   "source": [
    "df_uscd[df_uscd['city']=='COLUMBIA']"
   ]
  },
  {
   "cell_type": "code",
   "execution_count": 67,
   "metadata": {
    "editable": true
   },
   "outputs": [],
   "source": [
    "df_dem_gen = df_uscd[['city','state_code','median_age', 'male_population', 'female_population', 'total_population', 'number_of_veterans', 'foreign_born', 'average_household_size']].drop_duplicates()"
   ]
  },
  {
   "cell_type": "code",
   "execution_count": 50,
   "metadata": {
    "editable": true
   },
   "outputs": [
    {
     "data": {
      "text/html": [
       "<div>\n",
       "<style scoped>\n",
       "    .dataframe tbody tr th:only-of-type {\n",
       "        vertical-align: middle;\n",
       "    }\n",
       "\n",
       "    .dataframe tbody tr th {\n",
       "        vertical-align: top;\n",
       "    }\n",
       "\n",
       "    .dataframe thead th {\n",
       "        text-align: right;\n",
       "    }\n",
       "</style>\n",
       "<table border=\"1\" class=\"dataframe\">\n",
       "  <thead>\n",
       "    <tr style=\"text-align: right;\">\n",
       "      <th></th>\n",
       "      <th>city</th>\n",
       "      <th>state_code</th>\n",
       "      <th>median_age</th>\n",
       "      <th>male_population</th>\n",
       "      <th>female_population</th>\n",
       "      <th>total_population</th>\n",
       "      <th>number_of_veterans</th>\n",
       "      <th>average_household_size</th>\n",
       "    </tr>\n",
       "  </thead>\n",
       "  <tbody>\n",
       "    <tr>\n",
       "      <th>0</th>\n",
       "      <td>SILVER SPRING</td>\n",
       "      <td>MD</td>\n",
       "      <td>33.8</td>\n",
       "      <td>40601.0</td>\n",
       "      <td>41862.0</td>\n",
       "      <td>82463</td>\n",
       "      <td>1562.0</td>\n",
       "      <td>2.60</td>\n",
       "    </tr>\n",
       "    <tr>\n",
       "      <th>1</th>\n",
       "      <td>QUINCY</td>\n",
       "      <td>MA</td>\n",
       "      <td>41.0</td>\n",
       "      <td>44129.0</td>\n",
       "      <td>49500.0</td>\n",
       "      <td>93629</td>\n",
       "      <td>4147.0</td>\n",
       "      <td>2.39</td>\n",
       "    </tr>\n",
       "    <tr>\n",
       "      <th>2</th>\n",
       "      <td>HOOVER</td>\n",
       "      <td>AL</td>\n",
       "      <td>38.5</td>\n",
       "      <td>38040.0</td>\n",
       "      <td>46799.0</td>\n",
       "      <td>84839</td>\n",
       "      <td>4819.0</td>\n",
       "      <td>2.58</td>\n",
       "    </tr>\n",
       "    <tr>\n",
       "      <th>3</th>\n",
       "      <td>RANCHO CUCAMONGA</td>\n",
       "      <td>CA</td>\n",
       "      <td>34.5</td>\n",
       "      <td>88127.0</td>\n",
       "      <td>87105.0</td>\n",
       "      <td>175232</td>\n",
       "      <td>5821.0</td>\n",
       "      <td>3.18</td>\n",
       "    </tr>\n",
       "    <tr>\n",
       "      <th>4</th>\n",
       "      <td>NEWARK</td>\n",
       "      <td>NJ</td>\n",
       "      <td>34.6</td>\n",
       "      <td>138040.0</td>\n",
       "      <td>143873.0</td>\n",
       "      <td>281913</td>\n",
       "      <td>5829.0</td>\n",
       "      <td>2.73</td>\n",
       "    </tr>\n",
       "  </tbody>\n",
       "</table>\n",
       "</div>"
      ],
      "text/plain": [
       "               city state_code  median_age  male_population  \\\n",
       "0     SILVER SPRING         MD        33.8          40601.0   \n",
       "1            QUINCY         MA        41.0          44129.0   \n",
       "2            HOOVER         AL        38.5          38040.0   \n",
       "3  RANCHO CUCAMONGA         CA        34.5          88127.0   \n",
       "4            NEWARK         NJ        34.6         138040.0   \n",
       "\n",
       "   female_population  total_population  number_of_veterans  \\\n",
       "0            41862.0             82463              1562.0   \n",
       "1            49500.0             93629              4147.0   \n",
       "2            46799.0             84839              4819.0   \n",
       "3            87105.0            175232              5821.0   \n",
       "4           143873.0            281913              5829.0   \n",
       "\n",
       "   average_household_size  \n",
       "0                    2.60  \n",
       "1                    2.39  \n",
       "2                    2.58  \n",
       "3                    3.18  \n",
       "4                    2.73  "
      ]
     },
     "execution_count": 50,
     "metadata": {},
     "output_type": "execute_result"
    }
   ],
   "source": [
    "df_dem_gen.head()"
   ]
  },
  {
   "cell_type": "code",
   "execution_count": 68,
   "metadata": {
    "editable": true
   },
   "outputs": [],
   "source": [
    "df_dem_gen.to_csv(\"dimensions/us-cities-demographics_general.csv\", index=False)"
   ]
  },
  {
   "cell_type": "code",
   "execution_count": 53,
   "metadata": {
    "editable": true
   },
   "outputs": [
    {
     "data": {
      "text/html": [
       "<div>\n",
       "<style scoped>\n",
       "    .dataframe tbody tr th:only-of-type {\n",
       "        vertical-align: middle;\n",
       "    }\n",
       "\n",
       "    .dataframe tbody tr th {\n",
       "        vertical-align: top;\n",
       "    }\n",
       "\n",
       "    .dataframe thead th {\n",
       "        text-align: right;\n",
       "    }\n",
       "</style>\n",
       "<table border=\"1\" class=\"dataframe\">\n",
       "  <thead>\n",
       "    <tr style=\"text-align: right;\">\n",
       "      <th></th>\n",
       "      <th>city</th>\n",
       "      <th>state_code</th>\n",
       "      <th>race</th>\n",
       "      <th>count</th>\n",
       "    </tr>\n",
       "  </thead>\n",
       "  <tbody>\n",
       "    <tr>\n",
       "      <th>0</th>\n",
       "      <td>SILVER SPRING</td>\n",
       "      <td>MD</td>\n",
       "      <td>Hispanic or Latino</td>\n",
       "      <td>25924</td>\n",
       "    </tr>\n",
       "    <tr>\n",
       "      <th>1</th>\n",
       "      <td>QUINCY</td>\n",
       "      <td>MA</td>\n",
       "      <td>White</td>\n",
       "      <td>58723</td>\n",
       "    </tr>\n",
       "    <tr>\n",
       "      <th>2</th>\n",
       "      <td>HOOVER</td>\n",
       "      <td>AL</td>\n",
       "      <td>Asian</td>\n",
       "      <td>4759</td>\n",
       "    </tr>\n",
       "    <tr>\n",
       "      <th>3</th>\n",
       "      <td>RANCHO CUCAMONGA</td>\n",
       "      <td>CA</td>\n",
       "      <td>Black or African-American</td>\n",
       "      <td>24437</td>\n",
       "    </tr>\n",
       "    <tr>\n",
       "      <th>4</th>\n",
       "      <td>NEWARK</td>\n",
       "      <td>NJ</td>\n",
       "      <td>White</td>\n",
       "      <td>76402</td>\n",
       "    </tr>\n",
       "  </tbody>\n",
       "</table>\n",
       "</div>"
      ],
      "text/plain": [
       "               city state_code                       race  count\n",
       "0     SILVER SPRING         MD         Hispanic or Latino  25924\n",
       "1            QUINCY         MA                      White  58723\n",
       "2            HOOVER         AL                      Asian   4759\n",
       "3  RANCHO CUCAMONGA         CA  Black or African-American  24437\n",
       "4            NEWARK         NJ                      White  76402"
      ]
     },
     "execution_count": 53,
     "metadata": {},
     "output_type": "execute_result"
    }
   ],
   "source": [
    "df_dem_race = df_uscd[['city','state_code','race', 'count']].drop_duplicates()\n",
    "df_dem_race.head()"
   ]
  },
  {
   "cell_type": "code",
   "execution_count": 54,
   "metadata": {
    "editable": true
   },
   "outputs": [],
   "source": [
    "df_dem_race.to_csv(\"dimensions/us-cities-demographics_race.csv\", index=False)"
   ]
  },
  {
   "cell_type": "code",
   "execution_count": 43,
   "metadata": {
    "editable": true
   },
   "outputs": [
    {
     "data": {
      "text/plain": [
       "567"
      ]
     },
     "execution_count": 43,
     "metadata": {},
     "output_type": "execute_result"
    }
   ],
   "source": [
    "len(pd.unique(df_dem_gen['city'])) "
   ]
  },
  {
   "cell_type": "code",
   "execution_count": 44,
   "metadata": {
    "editable": true
   },
   "outputs": [
    {
     "data": {
      "text/plain": [
       "596"
      ]
     },
     "execution_count": 44,
     "metadata": {},
     "output_type": "execute_result"
    }
   ],
   "source": [
    "len(df_dem_gen['city']) "
   ]
  }
 ],
 "metadata": {
  "kernelspec": {
   "display_name": "Python 3",
   "language": "python",
   "name": "python3"
  },
  "language_info": {
   "codemirror_mode": {
    "name": "ipython",
    "version": 3
   },
   "file_extension": ".py",
   "mimetype": "text/x-python",
   "name": "python",
   "nbconvert_exporter": "python",
   "pygments_lexer": "ipython3",
   "version": "3.6.3"
  }
 },
 "nbformat": 4,
 "nbformat_minor": 4
}
