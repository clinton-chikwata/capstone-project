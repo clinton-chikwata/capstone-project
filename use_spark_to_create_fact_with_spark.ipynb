{
 "cells": [
  {
   "cell_type": "markdown",
   "metadata": {
    "editable": true
   },
   "source": [
    "# Create the fact table"
   ]
  },
  {
   "cell_type": "code",
   "execution_count": 1,
   "metadata": {
    "editable": true
   },
   "outputs": [],
   "source": [
    "import pandas as pd\n",
    "from pyspark.sql import SparkSession\n",
    "from pyspark.sql.types import StringType, IntegerType, FloatType, TimestampType, LongType, DateType, NullType\n",
    "from pyspark.sql.functions import udf, lit, when, col\n",
    "import datetime as dt\n",
    "\n",
    "spark = SparkSession.builder.\\\n",
    "config(\"spark.jars.packages\",\"saurfang:spark-sas7bdat:2.0.0-s_2.11\")\\\n",
    ".enableHiveSupport().getOrCreate()"
   ]
  },
  {
   "cell_type": "code",
   "execution_count": 21,
   "metadata": {
    "editable": true
   },
   "outputs": [],
   "source": [
    "df_idf=spark.read.parquet(\"sas_data\")"
   ]
  },
  {
   "cell_type": "code",
   "execution_count": 22,
   "metadata": {
    "editable": true
   },
   "outputs": [
    {
     "name": "stdout",
     "output_type": "stream",
     "text": [
      "root\n",
      " |-- cicid: double (nullable = true)\n",
      " |-- i94yr: double (nullable = true)\n",
      " |-- i94mon: double (nullable = true)\n",
      " |-- i94cit: double (nullable = true)\n",
      " |-- i94res: double (nullable = true)\n",
      " |-- i94port: string (nullable = true)\n",
      " |-- arrdate: double (nullable = true)\n",
      " |-- i94mode: double (nullable = true)\n",
      " |-- i94addr: string (nullable = true)\n",
      " |-- depdate: double (nullable = true)\n",
      " |-- i94bir: double (nullable = true)\n",
      " |-- i94visa: double (nullable = true)\n",
      " |-- count: double (nullable = true)\n",
      " |-- dtadfile: string (nullable = true)\n",
      " |-- visapost: string (nullable = true)\n",
      " |-- occup: string (nullable = true)\n",
      " |-- entdepa: string (nullable = true)\n",
      " |-- entdepd: string (nullable = true)\n",
      " |-- entdepu: string (nullable = true)\n",
      " |-- matflag: string (nullable = true)\n",
      " |-- biryear: double (nullable = true)\n",
      " |-- dtaddto: string (nullable = true)\n",
      " |-- gender: string (nullable = true)\n",
      " |-- insnum: string (nullable = true)\n",
      " |-- airline: string (nullable = true)\n",
      " |-- admnum: double (nullable = true)\n",
      " |-- fltno: string (nullable = true)\n",
      " |-- visatype: string (nullable = true)\n",
      "\n"
     ]
    }
   ],
   "source": [
    "df_idf.printSchema()"
   ]
  },
  {
   "cell_type": "code",
   "execution_count": 23,
   "metadata": {
    "editable": true
   },
   "outputs": [],
   "source": [
    "df_addr = pd.read_csv(\"dimensions/us_states.csv\")\n",
    "df_port_locations = pd.read_csv(\"dimensions/us_ports.csv\")\n",
    "df_cit_res = pd.read_csv(\"dimensions/countries.csv\")"
   ]
  },
  {
   "cell_type": "code",
   "execution_count": 24,
   "metadata": {
    "editable": true
   },
   "outputs": [],
   "source": [
    "# Remove invalid port_codes\n",
    "temp = df_port_locations.port_code.tolist()\n",
    "df_idf_filtered = df_idf.filter( df_idf.i94port.isin(temp) )"
   ]
  },
  {
   "cell_type": "code",
   "execution_count": 25,
   "metadata": {
    "editable": true
   },
   "outputs": [],
   "source": [
    "# Remove rows having invalid CoC & CoR\n",
    "temp = df_cit_res.country_code.astype('int').tolist()\n",
    "df_idf_filtered = df_idf_filtered.filter( df_idf_filtered.i94cit.isin(temp) )\n",
    "df_idf_filtered = df_idf_filtered.filter( df_idf_filtered.i94res.isin(temp) )"
   ]
  },
  {
   "cell_type": "code",
   "execution_count": 26,
   "metadata": {
    "editable": true
   },
   "outputs": [],
   "source": [
    "# Remove invalid i94addr\n",
    "temp = df_addr.state_code.tolist()\n",
    "df_idf_filtered = df_idf_filtered.filter( df_idf_filtered.i94addr.isin(temp) )"
   ]
  },
  {
   "cell_type": "code",
   "execution_count": 27,
   "metadata": {
    "editable": true
   },
   "outputs": [],
   "source": [
    "# Convert floats to ints\n",
    "cols_to_convert_float_to_integer = ['i94cit', 'i94res', 'arrdate', 'i94mode', 'depdate', 'i94bir'\n",
    "                                , 'i94visa', 'biryear', 'admnum', 'cicid']\n",
    "for colu in cols_to_convert_float_to_integer:    \n",
    "    df_idf_filtered = df_idf_filtered.na.fill(0, subset=[colu])\n",
    "    df_idf_filtered = df_idf_filtered.withColumn(colu, df_idf_filtered[colu].cast(IntegerType()))"
   ]
  },
  {
   "cell_type": "code",
   "execution_count": 28,
   "metadata": {
    "editable": true
   },
   "outputs": [
    {
     "name": "stdout",
     "output_type": "stream",
     "text": [
      "['i94mon', 'entdepd', 'insnum', 'entdepu', 'matflag', 'entdepa', 'count', 'i94yr']\n"
     ]
    }
   ],
   "source": [
    "# Dropping unused columns\n",
    "keep_columns = set(['i94cit', 'i94res', 'i94port', 'arrdate', 'i94mode', 'i94addr', 'depdate'\n",
    "                , 'i94bir', 'i94visa', 'dtadfile', 'visapost', 'occup', 'biryear'\n",
    "                , 'dtaddto', 'gender', 'airline', 'admnum', 'fltno', 'visatype', 'cicid'])\n",
    "all_colls = set(df_idf_filtered.columns)\n",
    "drop_cols = list(all_colls.difference(keep_columns))\n",
    "print(drop_cols)"
   ]
  },
  {
   "cell_type": "code",
   "execution_count": 29,
   "metadata": {
    "editable": true
   },
   "outputs": [],
   "source": [
    "df_idf_filtered = df_idf_filtered.drop(*drop_cols)"
   ]
  },
  {
   "cell_type": "code",
   "execution_count": 30,
   "metadata": {
    "editable": true
   },
   "outputs": [],
   "source": [
    "df_idf_filtered = (df_idf_filtered\n",
    "            .withColumnRenamed(\"i94bir\",  \"age\")\n",
    "            .withColumnRenamed(\"i94cit\", \"coc\")\n",
    "            .withColumnRenamed(\"i94res\", \"cor\")\n",
    "            .withColumnRenamed(\"i94port\", \"port_code\")\n",
    "            .withColumnRenamed(\"i94addr\", \"landing_state\")\n",
    "            .withColumnRenamed(\"visapost\", \"visa_issued_in\")\n",
    "            .withColumnRenamed(\"cicid\", \"id\"))"
   ]
  },
  {
   "cell_type": "code",
   "execution_count": 31,
   "metadata": {
    "editable": true
   },
   "outputs": [],
   "source": [
    "def cdf_mdY_to_mmddYYYY(x):\n",
    "    try:\n",
    "        return dt.datetime.strptime(x, '%m%d%Y')\n",
    "    except:\n",
    "        return None\n",
    "    \n",
    "def cdf_Ymd_to_mmddYYYY(x):\n",
    "    try:\n",
    "        return dt.datetime.strptime(x, '%Y%m%d')\n",
    "    except:\n",
    "        return None\n",
    "\n",
    "def to_datetime(x):\n",
    "    try:\n",
    "        start = dt.datetime(1960, 1, 1).date()\n",
    "        return start + dt.timedelta(days=int(x))\n",
    "    except:\n",
    "        return None\n",
    "\n",
    "udf_to_datetime_sas = udf(lambda x: to_datetime(x), DateType())\n",
    "udf_cdf_Ymd_to_mmddYYYY = udf(lambda x: cdf_Ymd_to_mmddYYYY(x), DateType())\n",
    "udf_cdf_mdY_to_mmddYYYY = udf(lambda x: cdf_mdY_to_mmddYYYY(x), DateType())"
   ]
  },
  {
   "cell_type": "code",
   "execution_count": 32,
   "metadata": {
    "editable": true
   },
   "outputs": [],
   "source": [
    "# Conversion dates\n",
    "\n",
    "df_idf_filtered = df_idf_filtered.withColumn(\"arrival_dt\", udf_to_datetime_sas(df_idf_filtered.arrdate))\n",
    "df_idf_filtered = df_idf_filtered.withColumn(\"arrival_dt\",when(col(\"arrival_dt\")==\"1960-01-01\",lit(None)).otherwise(col(\"arrival_dt\")))\n",
    "\n",
    "df_idf_filtered = df_idf_filtered.withColumn(\"departure_dt\", udf_to_datetime_sas(df_idf_filtered.depdate))\n",
    "df_idf_filtered = df_idf_filtered.withColumn(\"departure_dt\",when(col(\"departure_dt\")==\"1960-01-01\",lit(None)).otherwise(col(\"departure_dt\")))\n",
    "\n",
    "# Departure date can't before Arrival date \n",
    "df_idf_filtered = df_idf_filtered.filter(~(df_idf_filtered.arrival_dt > df_idf_filtered.departure_dt) | (df_idf_filtered.departure_dt.isNull()))\n",
    "\n",
    "df_idf_filtered = df_idf_filtered.withColumn(\"added_to_i94\", udf_cdf_Ymd_to_mmddYYYY(df_idf_filtered.dtadfile))\n",
    "df_idf_filtered = df_idf_filtered.withColumn(\"allowed_until\", udf_cdf_mdY_to_mmddYYYY(df_idf_filtered.dtaddto))\n",
    "\n",
    "drop_cols = ['arrdate', 'depdate', 'dtadfile', 'dtaddto']\n",
    "df_idf_filtered = df_idf_filtered.drop(*drop_cols)"
   ]
  },
  {
   "cell_type": "code",
   "execution_count": 33,
   "metadata": {
    "editable": true
   },
   "outputs": [],
   "source": [
    "#temp = {'1' : 'Air', '2' : 'Sea', '3' : 'Land', '9' : 'Not reported'}\n",
    "temp = [[\"1\", \"Air\"], [\"2\", \"Sea\"], [\"3\",\"Land\"], [\"9\", \"Not reported\"]]\n",
    "i94mode = spark.sparkContext.parallelize(temp).toDF([\"code\", \"arrival_mode\"])\n",
    "df_idf_filtered = df_idf_filtered.join(i94mode, df_idf_filtered.i94mode == i94mode.code).select(df_idf_filtered[\"*\"], i94mode[\"arrival_mode\"])\n",
    "\n",
    "temp = [[\"1\", \"Business\"], [\"2\", \"Pleasure\"], [\"3\", \"Student\"]]\n",
    "i94visa = spark.sparkContext.parallelize(temp).toDF([\"code\", \"visit_purpose\"])\n",
    "df_idf_filtered = df_idf_filtered.join(i94visa, df_idf_filtered.i94visa == i94visa.code).select(df_idf_filtered[\"*\"], i94visa[\"visit_purpose\"])\n",
    "\n",
    "drop_cols = ['i94mode', 'i94visa']\n",
    "df_idf_filtered = df_idf_filtered.drop(*drop_cols)"
   ]
  },
  {
   "cell_type": "code",
   "execution_count": 34,
   "metadata": {
    "editable": true
   },
   "outputs": [
    {
     "name": "stdout",
     "output_type": "stream",
     "text": [
      "root\n",
      " |-- id: integer (nullable = true)\n",
      " |-- coc: integer (nullable = true)\n",
      " |-- cor: integer (nullable = true)\n",
      " |-- port_code: string (nullable = true)\n",
      " |-- landing_state: string (nullable = true)\n",
      " |-- age: integer (nullable = true)\n",
      " |-- visa_issued_in: string (nullable = true)\n",
      " |-- occup: string (nullable = true)\n",
      " |-- biryear: integer (nullable = true)\n",
      " |-- gender: string (nullable = true)\n",
      " |-- airline: string (nullable = true)\n",
      " |-- admnum: integer (nullable = true)\n",
      " |-- fltno: string (nullable = true)\n",
      " |-- visatype: string (nullable = true)\n",
      " |-- arrival_dt: date (nullable = true)\n",
      " |-- departure_dt: date (nullable = true)\n",
      " |-- added_to_i94: date (nullable = true)\n",
      " |-- allowed_until: date (nullable = true)\n",
      " |-- arrival_mode: string (nullable = true)\n",
      " |-- visit_purpose: string (nullable = true)\n",
      "\n"
     ]
    }
   ],
   "source": [
    "df_idf_filtered.printSchema()"
   ]
  },
  {
   "cell_type": "code",
   "execution_count": 35,
   "metadata": {
    "editable": true
   },
   "outputs": [
    {
     "name": "stdout",
     "output_type": "stream",
     "text": [
      "+-------+---+---+---------+-------------+---+--------------+-----+-------+------+-------+----------+-----+--------+----------+------------+------------+-------------+------------+-------------+\n",
      "|     id|coc|cor|port_code|landing_state|age|visa_issued_in|occup|biryear|gender|airline|    admnum|fltno|visatype|arrival_dt|departure_dt|added_to_i94|allowed_until|arrival_mode|visit_purpose|\n",
      "+-------+---+---+---------+-------------+---+--------------+-----+-------+------+-------+----------+-----+--------+----------+------------+------------+-------------+------------+-------------+\n",
      "|5748517|245|438|      LOS|           CA| 40|           SYD| null|   1976|     F|     QF|2147483647|00011|      B1|2016-04-30|  2016-05-08|  2016-04-30|   2016-10-29|         Air|     Business|\n",
      "|5748518|245|438|      LOS|           NV| 32|           SYD| null|   1984|     F|     VA|2147483647|00007|      B1|2016-04-30|  2016-05-17|  2016-04-30|   2016-10-29|         Air|     Business|\n",
      "|5748519|245|438|      LOS|           WA| 29|           SYD| null|   1987|     M|     DL|2147483647|00040|      B1|2016-04-30|  2016-05-08|  2016-04-30|   2016-10-29|         Air|     Business|\n",
      "|5748520|245|438|      LOS|           WA| 29|           SYD| null|   1987|     F|     DL|2147483647|00040|      B1|2016-04-30|  2016-05-14|  2016-04-30|   2016-10-29|         Air|     Business|\n",
      "|5748521|245|438|      LOS|           WA| 28|           SYD| null|   1988|     M|     DL|2147483647|00040|      B1|2016-04-30|  2016-05-14|  2016-04-30|   2016-10-29|         Air|     Business|\n",
      "+-------+---+---+---------+-------------+---+--------------+-----+-------+------+-------+----------+-----+--------+----------+------------+------------+-------------+------------+-------------+\n",
      "only showing top 5 rows\n",
      "\n"
     ]
    }
   ],
   "source": [
    "df_idf_filtered.show(5)"
   ]
  },
  {
   "cell_type": "code",
   "execution_count": 36,
   "metadata": {
    "editable": true
   },
   "outputs": [
    {
     "name": "stdout",
     "output_type": "stream",
     "text": [
      "(2215678, 20)\n"
     ]
    }
   ],
   "source": [
    "df_idf_shape = (df_idf_filtered.count(), len(df_idf_filtered.columns))\n",
    "print(df_idf_shape)"
   ]
  },
  {
   "cell_type": "code",
   "execution_count": 37,
   "metadata": {
    "editable": true
   },
   "outputs": [],
   "source": [
    "df_idf_filtered.write.partitionBy('landing_state').mode('overwrite').format(\"csv\").option(\"header\",\"true\").save('fact/')"
   ]
  },
  {
   "cell_type": "code",
   "execution_count": null,
   "metadata": {
    "editable": true
   },
   "outputs": [],
   "source": []
  },
  {
   "cell_type": "code",
   "execution_count": null,
   "metadata": {
    "editable": true
   },
   "outputs": [],
   "source": []
  },
  {
   "cell_type": "code",
   "execution_count": null,
   "metadata": {
    "editable": true
   },
   "outputs": [],
   "source": []
  }
 ],
 "metadata": {
  "kernelspec": {
   "display_name": "Python 3",
   "language": "python",
   "name": "python3"
  },
  "language_info": {
   "codemirror_mode": {
    "name": "ipython",
    "version": 3
   },
   "file_extension": ".py",
   "mimetype": "text/x-python",
   "name": "python",
   "nbconvert_exporter": "python",
   "pygments_lexer": "ipython3",
   "version": "3.6.3"
  }
 },
 "nbformat": 4,
 "nbformat_minor": 4
}
